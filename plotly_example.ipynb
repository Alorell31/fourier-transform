{
 "cells": [
  {
   "cell_type": "code",
   "execution_count": 1,
   "metadata": {},
   "outputs": [
    {
     "data": {
      "text/html": [
       "<script>requirejs.config({paths: { 'plotly': ['https://cdn.plot.ly/plotly-latest.min']},});if(!window.Plotly) {{require(['plotly'],function(plotly) {window.Plotly=plotly;});}}</script>"
      ],
      "text/vnd.plotly.v1+html": [
       "<script>requirejs.config({paths: { 'plotly': ['https://cdn.plot.ly/plotly-latest.min']},});if(!window.Plotly) {{require(['plotly'],function(plotly) {window.Plotly=plotly;});}}</script>"
      ]
     },
     "metadata": {},
     "output_type": "display_data"
    }
   ],
   "source": [
    "import plotly as py\n",
    "import plotly.graph_objs as go\n",
    "import ipywidgets as widgets\n",
    "import numpy as np\n",
    "\n",
    "py.offline.init_notebook_mode(connected=True)"
   ]
  },
  {
   "cell_type": "code",
   "execution_count": 3,
   "metadata": {},
   "outputs": [
    {
     "data": {
      "application/vnd.jupyter.widget-view+json": {
       "model_id": "d21d0342c4ad4f509d484b3d0af1de8a"
      }
     },
     "metadata": {},
     "output_type": "display_data"
    }
   ],
   "source": [
    "x = np.linspace(0.001, 2 * np.pi, 500)\n",
    "y = np.sin(x)\n",
    "\n",
    "layout = go.Layout(\n",
    "    title='<b>{}</b>'.format('SIMPLE SCATTER PLOT'),\n",
    "    yaxis=dict(\n",
    "        title='(<i>{}</i>)'.format('Volts'),\n",
    "        showgrid=False,\n",
    "    ),\n",
    "    xaxis=dict(\n",
    "        title='(<i>{}</i>)'.format('nanoseconds')\n",
    "    ),\n",
    ")\n",
    "\n",
    "def update_plot(signals, freq):\n",
    "    \n",
    "    signal_dict = {'sine': np.sin(freq * x), \n",
    "                   'cosine': np.cos(freq * x),\n",
    "                   'sinc': np.sin(freq * x) / (freq * x)}\n",
    "    data = []\n",
    "    \n",
    "    for signal in signals:\n",
    "        trace = go.Scatter(\n",
    "            x=x, y=signal_dict[signal],\n",
    "            mode='lines',\n",
    "            name='<i>{}</i>'.format(signal),\n",
    "            line=dict(shape='spline'),\n",
    "        )\n",
    "        data.append(trace)\n",
    "\n",
    "\n",
    "    fig = go.Figure(data=data, layout=layout)\n",
    "    py.offline.iplot(fig)\n",
    "    \n",
    "    \n",
    "signals = widgets.SelectMultiple(options=['sine', 'cosine', 'sinc'], value=('sine',), description='Signals')\n",
    "freq = widgets.FloatSlider(min=1, max=20, value=1, description='Freq')\n",
    "widgets.interactive(update_plot, signals=signals, freq=freq)"
   ]
  },
  {
   "cell_type": "code",
   "execution_count": null,
   "metadata": {
    "collapsed": true
   },
   "outputs": [],
   "source": []
  }
 ],
 "metadata": {
  "kernelspec": {
   "display_name": "Python [default]",
   "language": "python",
   "name": "python3"
  },
  "language_info": {
   "codemirror_mode": {
    "name": "ipython",
    "version": 3
   },
   "file_extension": ".py",
   "mimetype": "text/x-python",
   "name": "python",
   "nbconvert_exporter": "python",
   "pygments_lexer": "ipython3",
   "version": "3.5.3"
  }
 },
 "nbformat": 4,
 "nbformat_minor": 2
}
